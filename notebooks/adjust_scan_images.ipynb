{
  "cells": [
    {
      "cell_type": "markdown",
      "metadata": {
        "id": "42LgVOVFeKMs",
        "colab_type": "text"
      },
      "source": [
        "# スキャン画像の読み取り，位置合わせ"
      ]
    },
    {
      "cell_type": "code",
      "metadata": {
        "id": "oYUtCyZtdcWQ",
        "colab_type": "code",
        "colab": {},
        "tags": []
      },
      "source": [
        "import numpy as np\n",
        "import matplotlib.pyplot as plt\n",
        "import cv2\n",
        "\n",
        "%config InlineBackend.figure_formats = {'png', 'retina'}\n",
        "%load_ext autoreload\n",
        "%autoreload 2"
      ],
      "execution_count": null,
      "outputs": []
    },
    {
      "cell_type": "code",
      "execution_count": null,
      "metadata": {
        "tags": []
      },
      "outputs": [],
      "source": [
        "import os\n",
        "os.chdir(\"/home/mo-mo-/program/adjust-scan-images\")\n",
        "print(os.getcwd())\n",
        "from src.main import pipeline, setup_logger\n",
        "\n",
        "import logging\n",
        "logger = logging.getLogger(\"adjust-scan-images\")"
      ]
    },
    {
      "cell_type": "code",
      "metadata": {
        "id": "aolBWx39ejhU",
        "colab_type": "code",
        "colab": {},
        "tags": []
      },
      "source": [
        "DIRNAME = \"./data/new_data/\"\n",
        "METADATA =\"./settings/setting.xlsx\"\n",
        "SAVENAME = \"./data/processed_new/\"\n",
        "BASEIMG = \"./data/0001.jpg\"\n",
        "\n",
        "\n",
        "setup_logger(SAVENAME)\n",
        "try:\n",
        "    values = pipeline(DIRNAME, METADATA, SAVENAME, BASEIMG)\n",
        "except Exception as e:\n",
        "    logger.exception(\"ERROR!!! STOPPED!!!\")\n",
        "    raise e\n",
        "print(values)\n",
        "\n",
        "\n",
        "\n",
        "\n",
        "\n",
        "    "
      ],
      "execution_count": null,
      "outputs": []
    },
    {
      "cell_type": "markdown",
      "metadata": {
        "id": "cGHR0n1JuT2W",
        "colab_type": "text"
      },
      "source": [
        "### マーカーの位置検出"
      ]
    },
    {
      "cell_type": "code",
      "metadata": {
        "id": "ygjbhzYvuXEh",
        "colab_type": "code",
        "colab": {}
      },
      "source": [
        "def find_markers(img, template, mask=None):\n",
        "    if mask is not None:\n",
        "        img = img * mask\n",
        "\n",
        "    # テンプレートマッチング\n",
        "    res = cv2.matchTemplate(img, template, cv2.TM_CCOEFF_NORMED)\n",
        "    \n",
        "    sort_idx = np.argsort(res)[-3:]\n",
        "    m_res = res[sort_idx]\n",
        "    # m_res が何を返すかわからないのでこの先はやってみないとわからない\n",
        "    # http://labs.eecs.tottori-u.ac.jp/sd/Member/oyamada/OpenCV/html/py_tutorials/py_imgproc/py_template_matching/py_template_matching.html\n",
        "\n",
        ""
      ],
      "execution_count": null,
      "outputs": []
    },
    {
      "cell_type": "markdown",
      "metadata": {
        "id": "gnI8z27ze2ZY",
        "colab_type": "text"
      },
      "source": [
        "### アフィン変換"
      ]
    },
    {
      "cell_type": "code",
      "metadata": {
        "id": "uHk82hxve14D",
        "colab_type": "code",
        "colab": {}
      },
      "source": [
        "def align_image(base_markers, img_markers, img):\n",
        "    h, w = img.shape\n",
        "    M = cv2.getAffineTransform(img_markers, base_markers)\n",
        "    new_img = cv2.warpAffine(img, M, (h, w), borderValue=255)  # 境界の外は白で埋める\n",
        "    return new_img"
      ],
      "execution_count": null,
      "outputs": []
    },
    {
      "cell_type": "markdown",
      "metadata": {
        "colab_type": "text",
        "id": "Z6KFdZ_7MjiF"
      },
      "source": [
        "### 画像の保存"
      ]
    },
    {
      "cell_type": "code",
      "metadata": {
        "colab_type": "code",
        "id": "ZqRb-Y0BMjZr",
        "colab": {}
      },
      "source": [
        "def save_image(path, img):\n",
        "    os.makedirs(os.path.dirname(path), exist_ok=True)\n",
        "    cv2.imwrite(path, img)"
      ],
      "execution_count": null,
      "outputs": []
    },
    {
      "cell_type": "markdown",
      "metadata": {
        "id": "myOOgVquKc7E",
        "colab_type": "text"
      },
      "source": [
        "### 実行"
      ]
    },
    {
      "cell_type": "code",
      "metadata": {
        "id": "4IuRjB30tIbV",
        "colab_type": "code",
        "colab": {}
      },
      "source": [
        "TEMP_PATH = \"\"\n",
        "BASE_PATH = \"\"\n",
        "DIRNAME = \"\"\n",
        "SAVE_DIRNAME = \"\"\n",
        "\n",
        "template = read_image(TEMP_PATH)\n",
        "baseimg = read_image(BASE_PATH)\n",
        "base_markers = find_markers(baseimg, template)\n",
        "images = read_images(DIRNAME)\n",
        "for p, img in images:\n",
        "    markers = find_markers(img, templage)\n",
        "    new_img = align_image(base_markers, markers, img)\n",
        "\n",
        "    plt.imshow(new_img, cmap=\"gray\")\n",
        "    plt.show()\n",
        "\n",
        "    # q = p.replace(DIRNAME, SAVE_DIRNAME)\n",
        "    # save_image(q, new_img)"
      ],
      "execution_count": null,
      "outputs": []
    }
  ],
  "metadata": {
    "colab": {
      "name": "adjust-scan-images.ipynb",
      "provenance": [],
      "collapsed_sections": [],
      "authorship_tag": "ABX9TyPEHOzsXleE6hO9aKL1Bim6"
    },
    "kernelspec": {
      "name": "python3",
      "display_name": "Python 3"
    }
  },
  "nbformat": 4,
  "nbformat_minor": 0
}