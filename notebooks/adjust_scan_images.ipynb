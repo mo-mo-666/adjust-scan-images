{
  "nbformat": 4,
  "nbformat_minor": 0,
  "metadata": {
    "colab": {
      "name": "adjust-scan-images.ipynb",
      "provenance": [],
      "collapsed_sections": [],
      "authorship_tag": "ABX9TyPEHOzsXleE6hO9aKL1Bim6"
    },
    "kernelspec": {
      "name": "python3",
      "display_name": "Python 3"
    }
  },
  "cells": [
    {
      "cell_type": "markdown",
      "metadata": {
        "id": "42LgVOVFeKMs",
        "colab_type": "text"
      },
      "source": [
        "# スキャン画像の読み取り，位置合わせ"
      ]
    },
    {
      "cell_type": "code",
      "metadata": {
        "id": "oYUtCyZtdcWQ",
        "colab_type": "code",
        "colab": {}
      },
      "source": [
        "import numpy as np\n",
        "import matplotlib.pyplot as plt\n",
        "import cv2\n",
        "\n",
        "%config InlineBackend.figure_formats = {'png', 'retina'}"
      ],
      "execution_count": 0,
      "outputs": []
    },
    {
      "cell_type": "markdown",
      "metadata": {
        "id": "bB9-wVU_etKI",
        "colab_type": "text"
      },
      "source": [
        "### 画像の読み込み"
      ]
    },
    {
      "cell_type": "code",
      "metadata": {
        "id": "aolBWx39ejhU",
        "colab_type": "code",
        "colab": {}
      },
      "source": [
        "import glob\n",
        "import os\n",
        "\n",
        "\n",
        "def read_image(path):\n",
        "    return cv2.imread(path, cv2.IMREAD_GRAYSCALE)\n",
        "\n",
        "\n",
        "def read_images(dirname, ext=None):\n",
        "    \"\"\"\n",
        "    Parameters\n",
        "    ----------\n",
        "    dirname: name of the directory.\n",
        "    ext: file's extension such as \".png\", \".jpg\",...\n",
        "    \"\"\"\n",
        "    if ext:\n",
        "        pathr = os.path.join(dirname, \"**\", \"*\"+ext)\n",
        "    else:\n",
        "        pathr = os.path.join(dirname, \"**\")\n",
        "    paths = glob.iglob(pathr, recursive=True)\n",
        "    for p in paths:\n",
        "        img = read_image(p)\n",
        "        if img is None:\n",
        "            continue\n",
        "        yield p, img\n",
        "    "
      ],
      "execution_count": 1,
      "outputs": []
    },
    {
      "cell_type": "markdown",
      "metadata": {
        "id": "cGHR0n1JuT2W",
        "colab_type": "text"
      },
      "source": [
        "### マーカーの位置検出"
      ]
    },
    {
      "cell_type": "code",
      "metadata": {
        "id": "ygjbhzYvuXEh",
        "colab_type": "code",
        "colab": {}
      },
      "source": [
        "def find_markers(img, template, mask=None):\n",
        "    if mask is not None:\n",
        "        img = img * mask\n",
        "\n",
        "    # テンプレートマッチング\n",
        "    res = cv2.matchTemplate(img, template, cv2.TM_CCOEFF_NORMED)\n",
        "    \n",
        "    sort_idx = np.argsort(res)[-3:]\n",
        "    m_res = res[sort_idx]\n",
        "    # m_res が何を返すかわからないのでこの先はやってみないとわからない\n",
        "    # http://labs.eecs.tottori-u.ac.jp/sd/Member/oyamada/OpenCV/html/py_tutorials/py_imgproc/py_template_matching/py_template_matching.html\n",
        "\n",
        ""
      ],
      "execution_count": 2,
      "outputs": []
    },
    {
      "cell_type": "markdown",
      "metadata": {
        "id": "gnI8z27ze2ZY",
        "colab_type": "text"
      },
      "source": [
        "### アフィン変換"
      ]
    },
    {
      "cell_type": "code",
      "metadata": {
        "id": "uHk82hxve14D",
        "colab_type": "code",
        "colab": {}
      },
      "source": [
        "def align_image(base_markers, img_markers, img):\n",
        "    h, w = img.shape\n",
        "    M = cv2.getAffineTransform(img_markers, base_markers)\n",
        "    new_img = cv2.warpAffine(img, M, (h, w), borderValue=255)  # 境界の外は白で埋める\n",
        "    return new_img"
      ],
      "execution_count": 3,
      "outputs": []
    },
    {
      "cell_type": "markdown",
      "metadata": {
        "colab_type": "text",
        "id": "Z6KFdZ_7MjiF"
      },
      "source": [
        "### 画像の保存"
      ]
    },
    {
      "cell_type": "code",
      "metadata": {
        "colab_type": "code",
        "id": "ZqRb-Y0BMjZr",
        "colab": {}
      },
      "source": [
        "def save_image(path, img):\n",
        "    os.makedirs(os.path.dirname(path), exist_ok=True)\n",
        "    cv2.imwrite(path, img)"
      ],
      "execution_count": 4,
      "outputs": []
    },
    {
      "cell_type": "markdown",
      "metadata": {
        "id": "myOOgVquKc7E",
        "colab_type": "text"
      },
      "source": [
        "### 実行"
      ]
    },
    {
      "cell_type": "code",
      "metadata": {
        "id": "4IuRjB30tIbV",
        "colab_type": "code",
        "colab": {}
      },
      "source": [
        "TEMP_PATH = \"\"\n",
        "BASE_PATH = \"\"\n",
        "DIRNAME = \"\"\n",
        "SAVE_DIRNAME = \"\"\n",
        "\n",
        "template = read_image(TEMP_PATH)\n",
        "baseimg = read_image(BASE_PATH)\n",
        "base_markers = find_markers(baseimg, template)\n",
        "images = read_images(DIRNAME)\n",
        "for p, img in images:\n",
        "    markers = find_markers(img, templage)\n",
        "    new_img = align_image(base_markers, markers, img)\n",
        "\n",
        "    plt.imshow(new_img, cmap=\"gray\")\n",
        "    plt.show()\n",
        "\n",
        "    # q = p.replace(DIRNAME, SAVE_DIRNAME)\n",
        "    # save_image(q, new_img)"
      ],
      "execution_count": 0,
      "outputs": []
    }
  ]
}