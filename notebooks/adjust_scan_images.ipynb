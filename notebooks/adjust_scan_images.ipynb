{
  "nbformat": 4,
  "nbformat_minor": 0,
  "metadata": {
    "colab": {
      "name": "adjust-scan-images.ipynb",
      "provenance": [],
      "collapsed_sections": [],
      "authorship_tag": "ABX9TyP4ZaCFRbW8rWEKHDjPIiO7"
    },
    "kernelspec": {
      "name": "python3",
      "display_name": "Python 3"
    }
  },
  "cells": [
    {
      "cell_type": "markdown",
      "metadata": {
        "id": "42LgVOVFeKMs",
        "colab_type": "text"
      },
      "source": [
        "# スキャン画像の読み取り，位置合わせ"
      ]
    },
    {
      "cell_type": "code",
      "metadata": {
        "id": "oYUtCyZtdcWQ",
        "colab_type": "code",
        "colab": {}
      },
      "source": [
        "import numpy as np\n",
        "import matplotlib.pyplot as plt\n",
        "import cv2\n",
        "\n",
        "%config InlineBackend.figure_formats = {'png', 'retina'}"
      ],
      "execution_count": 0,
      "outputs": []
    },
    {
      "cell_type": "markdown",
      "metadata": {
        "id": "bB9-wVU_etKI",
        "colab_type": "text"
      },
      "source": [
        "### 画像の読み込み"
      ]
    },
    {
      "cell_type": "code",
      "metadata": {
        "id": "aolBWx39ejhU",
        "colab_type": "code",
        "colab": {}
      },
      "source": [
        "import glob\n",
        "import os\n",
        "\n",
        "def read_images(dirname, ext=None):\n",
        "    if ext:\n",
        "        pathr = os.path.join(dirname, \"**\", \"*\"+ext)\n",
        "    else:\n",
        "        pathr = os.path.join(dirname, \"**\")\n",
        "    paths = glob.iglob(pathr, recursive=True)\n",
        "    for p in paths:\n",
        "        img = cv2.imread(p, cv2.IMREAD_GRAYSCALE)\n",
        "        if img is None:\n",
        "            continue\n",
        "        yield img"
      ],
      "execution_count": 0,
      "outputs": []
    },
    {
      "cell_type": "markdown",
      "metadata": {
        "id": "gnI8z27ze2ZY",
        "colab_type": "text"
      },
      "source": [
        "### 変換関数"
      ]
    },
    {
      "cell_type": "code",
      "metadata": {
        "id": "uHk82hxve14D",
        "colab_type": "code",
        "colab": {}
      },
      "source": [
        "def find_markers(img, mask):\n",
        "    masked = img * mask\n",
        "    ret,thresh = cv2.threshold(masked, 127, 255, cv2.THRESH_BINARY)\n",
        "    contours, hierarchy = cv2.findContours(thresh, cv2.RETR_EXTERNAL, cv2.CHAIN_APPROX_SIMPLE)\n",
        "    areas = [cv2.contourArea(cnt) for cnt in contours]\n",
        "    sort_idx = np.argsort(areas)[::-1]\n",
        "\n",
        "\n",
        "\n",
        "def align_image(base_markers, img_markers, img):\n",
        "    w, h = img.shape\n",
        "    M = cv2.getAffineTransform(img_markers, base_markers)\n",
        "    dst = cv2.warpAffine(img, M, (h, w), borderValue=255)\n",
        "    return dst"
      ],
      "execution_count": 0,
      "outputs": []
    }
  ]
}