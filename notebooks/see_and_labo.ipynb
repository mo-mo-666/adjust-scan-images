{
 "cells": [
  {
   "cell_type": "markdown",
   "metadata": {},
   "source": [
    "# 表示と実験\n",
    "___"
   ]
  },
  {
   "cell_type": "code",
   "execution_count": null,
   "metadata": {},
   "outputs": [],
   "source": [
    "import numpy as np\n",
    "import matplotlib.pyplot as plt\n",
    "import cv2\n",
    "\n",
    "%config InlineBackend.figure_formats = {'png', 'retina'}"
   ]
  },
  {
   "cell_type": "code",
   "execution_count": null,
   "metadata": {},
   "outputs": [],
   "source": [
    "import glob\n",
    "import os\n",
    "\n",
    "PATH = \"../data/raw_resized/*.jpg\"\n",
    "paths = glob.glob(PATH)\n",
    "print(paths)"
   ]
  },
  {
   "cell_type": "markdown",
   "metadata": {},
   "source": [
    "## 画像の確認"
   ]
  },
  {
   "cell_type": "code",
   "execution_count": null,
   "metadata": {},
   "outputs": [],
   "source": [
    "img = cv2.imread(paths[0], cv2.IMREAD_GRAYSCALE)\n",
    "plt.imshow(img, cmap=\"gray\")\n",
    "plt.show()"
   ]
  },
  {
   "cell_type": "markdown",
   "metadata": {},
   "source": [
    "## ガウシアンフィルタにかけて二値化"
   ]
  },
  {
   "cell_type": "code",
   "execution_count": null,
   "metadata": {},
   "outputs": [],
   "source": [
    "img_blur = cv2.GaussianBlur(img,(15,15),3)\n",
    "plt.imshow(img_blur, cmap='gray')\n",
    "plt.show()\n",
    "_,thre = cv2.threshold(img_blur,127,255,cv2.THRESH_BINARY_INV)\n",
    "plt.imshow(thre, cmap=\"gray\")\n",
    "plt.show()\n",
    "plt.imshow(img, cmap=\"gray\")\n",
    ""
   ]
  },
  {
   "cell_type": "markdown",
   "metadata": {},
   "source": [
    "## 領域を適切に区切る"
   ]
  },
  {
   "cell_type": "code",
   "execution_count": null,
   "metadata": {},
   "outputs": [],
   "source": [
    "mask = np.full_like(img, 0)\n",
    "mask[:200, :200] = mask1 = np.copy(img[:200, :200])\n",
    "mask[-200:, :200] = mask2 = np.copy(img[-200:, :200])\n",
    "mask[:200, -200:] = mask3 = np.copy(img[:200, -200:])\n",
    "mask[-200:, -200:] = mask4 = np.copy(img[-200:, -200:])\n",
    "plt.imshow(mask, cmap=\"gray\")\n",
    "plt.show()"
   ]
  },
  {
   "cell_type": "code",
   "execution_count": null,
   "metadata": {},
   "outputs": [],
   "source": [
    "plt.imshow(mask3, cmap=\"gray\")\n",
    "plt.grid(True)"
   ]
  },
  {
   "cell_type": "markdown",
   "metadata": {},
   "source": [
    "### ガウシアンフィルタ → ２値化して境界検出"
   ]
  },
  {
   "cell_type": "code",
   "execution_count": null,
   "metadata": {},
   "outputs": [],
   "source": [
    "blur = cv2.GaussianBlur(mask3,(15,15),2)\n",
    "plt.imshow(blur, cmap=\"gray\")\n",
    "plt.grid(True)\n",
    "plt.show()\n",
    "_,th3 = cv2.threshold(blur,127,255,cv2.THRESH_BINARY_INV)\n",
    "plt.imshow(th3, cmap=\"gray\")\n",
    "plt.grid(True)\n",
    "plt.show()"
   ]
  },
  {
   "cell_type": "code",
   "execution_count": null,
   "metadata": {},
   "outputs": [],
   "source": [
    "contours, hierarchy = cv2.findContours(th3,cv2.RETR_EXTERNAL,cv2.CHAIN_APPROX_SIMPLE)\n",
    "con_img3 = cv2.drawContours(np.copy(mask3), contours, -1, (0,255,0), 3)\n",
    "plt.imshow(con_img3, cmap='gray')\n",
    "plt.grid(True)\n",
    "plt.show()\n",
    "\n",
    "areas = [cv2.contourArea(cnt) for cnt in contours]\n",
    "print(areas)\n",
    "max_idx = np.argmax(areas)\n",
    "max_area = areas[max_idx]\n",
    "max_cnt = contours[max_idx]\n",
    "# 最小外接円\n",
    "(x,y),radius = cv2.minEnclosingCircle(max_cnt)\n",
    "center = (int(x),int(y))\n",
    "radius = int(radius)\n",
    "cir3 = cv2.circle(np.copy(mask3),center,radius,(0,255,0),2)\n",
    "plt.imshow(cir3, cmap=\"gray\")\n",
    "plt.grid(True)\n",
    "plt.show()\n",
    "print(x, y, radius)\n",
    "# 重心\n",
    "M = cv2.momentM = cv2.moments(max_cnt)\n",
    "cx = M['m10']/M['m00']\n",
    "cy = M['m01']/M['m00']\n",
    "print(cx, cy)\n",
    "\n",
    ""
   ]
  },
  {
   "cell_type": "markdown",
   "metadata": {},
   "source": [
    "# マークシートの確認\n",
    "___"
   ]
  },
  {
   "cell_type": "code",
   "execution_count": null,
   "metadata": {},
   "outputs": [],
   "source": [
    "mark_img = img[:800, -400:]\n",
    "plt.imshow(mark_img, cmap=\"gray\")\n",
    "plt.show()"
   ]
  },
  {
   "cell_type": "code",
   "execution_count": null,
   "metadata": {},
   "outputs": [],
   "source": []
  }
 ],
 "metadata": {
  "language_info": {
   "name": "python",
   "codemirror_mode": {
    "name": "ipython",
    "version": 3
   },
   "version": "3.7.7-final"
  },
  "orig_nbformat": 2,
  "file_extension": ".py",
  "mimetype": "text/x-python",
  "name": "python",
  "npconvert_exporter": "python",
  "pygments_lexer": "ipython3",
  "version": 3,
  "kernelspec": {
   "name": "python3",
   "display_name": "Python 3"
  }
 },
 "nbformat": 4,
 "nbformat_minor": 2
}